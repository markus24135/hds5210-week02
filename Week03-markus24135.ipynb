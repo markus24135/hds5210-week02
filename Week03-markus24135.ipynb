{
 "cells": [
  {
   "cell_type": "code",
   "execution_count": 58,
   "metadata": {
    "collapsed": false
   },
   "outputs": [
    {
     "name": "stderr",
     "output_type": "stream",
     "text": [
      "fatal: destination path 'hds5210-week02' already exists and is not an empty directory.\n"
     ]
    }
   ],
   "source": [
    "%%bash\n",
    "cd ~/notebooks\n",
    "git clone git@github.com:markus24135/hds5210-week02.git"
   ]
  },
  {
   "cell_type": "code",
   "execution_count": null,
   "metadata": {
    "collapsed": true
   },
   "outputs": [],
   "source": [
    "#Problem 1 - Creating Functions\n",
    "#Write a function that will compute the sum of three numbers.\n",
    "#Then use that function to calculate the sum of the eight numbers below:\n",
    "#4, 9, 12, 8, 16, 19, 11, 10\n",
    "sum3 = 4 + 9 + 12"
   ]
  },
  {
   "cell_type": "code",
   "execution_count": 2,
   "metadata": {
    "collapsed": false
   },
   "outputs": [
    {
     "data": {
      "text/plain": [
       "89"
      ]
     },
     "execution_count": 2,
     "metadata": {},
     "output_type": "execute_result"
    }
   ],
   "source": [
    "sum8 = sum3 +8+16+19+11+10\n",
    "sum8"
   ]
  },
  {
   "cell_type": "code",
   "execution_count": 3,
   "metadata": {
    "collapsed": false
   },
   "outputs": [
    {
     "name": "stdout",
     "output_type": "stream",
     "text": [
      "The current value of temp is 103\n"
     ]
    }
   ],
   "source": [
    "#2 - Understanding Functions\n",
    "#Try to reason through this set of instruction and determine what the output will be.\n",
    "#Check your understanding by running the code in Jupyter. Then explain why the output is what it is.\n",
    "temp = 103 #assigning the number 103 to the variable temp\n",
    "\n",
    "def calculate_target (temp):\n",
    "    temp -= 4 \n",
    "    return temp #subtracts 4 from temp and then assigns that new value to temp\n",
    "\n",
    "calculate_target (temp)\n",
    "\n",
    "print(\"The current value of temp is \" + str(temp))"
   ]
  },
  {
   "cell_type": "code",
   "execution_count": 19,
   "metadata": {
    "collapsed": false
   },
   "outputs": [
    {
     "data": {
      "text/plain": [
       "1.0"
      ]
     },
     "execution_count": 19,
     "metadata": {},
     "output_type": "execute_result"
    }
   ],
   "source": [
    "#Problem 3 - Parsing Dosage Amounts and Units\n",
    "#Create a function that will take as input an infusion dosage value and unit in the \n",
    "#format # volume/time such as 45 mg/hr or 0.2 L/hr, and return just the numeric part of the dosage. \n",
    "#It should return the numeric part as a floating point decimal number so that calculations can easily be done with the number.\n",
    "#Demonstrate that your function works correctly using each of these tests:\n",
    "#1.0 L/hr\n",
    "#10 mg/hr\n",
    "#0.75 g/day\n",
    "dos = \"1.0 L/hr\"\n",
    "numdos = float(dos[0:dos.find(' ')])\n",
    "numdos"
   ]
  },
  {
   "cell_type": "code",
   "execution_count": 52,
   "metadata": {
    "collapsed": false
   },
   "outputs": [],
   "source": [
    "#Create another function or collection of functions that will take a string in the format drug # volumne/time \n",
    "#such as Asprin 20 mg/hr, and return a string in the format In one hr, the patient will have received 20 mg of Asprin.\n",
    "#Doubling the dosage to 40 mg would be dangerous!.\n",
    "#Be sure that you reuse the other functions you've created in this assignment if possible.\n",
    "\n",
    "#Demonstrate that your function works correctly using these tests:\n",
    "#Asprin 20 mg/hr\n",
    "#Amoxicillin 300 mg/day"
   ]
  },
  {
   "cell_type": "code",
   "execution_count": 46,
   "metadata": {
    "collapsed": false
   },
   "outputs": [
    {
     "data": {
      "text/plain": [
       "'Asprin'"
      ]
     },
     "execution_count": 46,
     "metadata": {},
     "output_type": "execute_result"
    }
   ],
   "source": [
    "receive = \"Asprin 20 mg/hr\"\n",
    "wha, what, whatt = receive.split(\" \", 2)\n",
    "mg, time = whatt.split(\"/\", 2)\n",
    "what = float(what)\n",
    "what2 = what*2"
   ]
  },
  {
   "cell_type": "code",
   "execution_count": 51,
   "metadata": {
    "collapsed": false
   },
   "outputs": [
    {
     "name": "stdout",
     "output_type": "stream",
     "text": [
      "In one hr, the patient will have received 20.0mg of Asprin. Doubling the dosage to 40.0 would be dangerous!\n"
     ]
    }
   ],
   "source": [
    "print(\"In one \" + str(time) + \", the patient will have received \" + str(what) + \"mg of \" + str(wha) +\n",
    "\". Doubling the dosage to \" + str(what2) + \" would be dangerous!\")"
   ]
  },
  {
   "cell_type": "code",
   "execution_count": 59,
   "metadata": {
    "collapsed": false
   },
   "outputs": [
    {
     "name": "stdout",
     "output_type": "stream",
     "text": [
      "On branch master\n",
      "Your branch is up-to-date with 'origin/master'.\n",
      "Untracked files:\n",
      "\t.ipynb_checkpoints/\n",
      "\n",
      "nothing added to commit but untracked files present\n"
     ]
    },
    {
     "name": "stderr",
     "output_type": "stream",
     "text": [
      "fatal: pathspec 'Week03-markus24135.ipynb' did not match any files\n",
      "warning: push.default is unset; its implicit value has changed in\n",
      "Git 2.0 from 'matching' to 'simple'. To squelch this message\n",
      "and maintain the traditional behavior, use:\n",
      "\n",
      "  git config --global push.default matching\n",
      "\n",
      "To squelch this message and adopt the new behavior now, use:\n",
      "\n",
      "  git config --global push.default simple\n",
      "\n",
      "When push.default is set to 'matching', git will push local branches\n",
      "to the remote branches that already exist with the same name.\n",
      "\n",
      "Since Git 2.0, Git defaults to the more conservative 'simple'\n",
      "behavior, which only pushes the current branch to the corresponding\n",
      "remote branch that 'git pull' uses to update the current branch.\n",
      "\n",
      "See 'git help config' and search for 'push.default' for further information.\n",
      "(the 'simple' mode was introduced in Git 1.7.11. Use the similar mode\n",
      "'current' instead of 'simple' if you sometimes use older versions of Git)\n",
      "\n",
      "Everything up-to-date\n"
     ]
    }
   ],
   "source": [
    "%%bash\n",
    "cd ~/notebooks/hds5210-week02/\n",
    "git add Week03-markus24135.ipynb\n",
    "git commit -a -m \"Adding homework for week 3\"\n",
    "git push"
   ]
  },
  {
   "cell_type": "code",
   "execution_count": null,
   "metadata": {
    "collapsed": true
   },
   "outputs": [],
   "source": []
  }
 ],
 "metadata": {
  "kernelspec": {
   "display_name": "Python 3",
   "language": "python",
   "name": "python3"
  },
  "language_info": {
   "codemirror_mode": {
    "name": "ipython",
    "version": 3
   },
   "file_extension": ".py",
   "mimetype": "text/x-python",
   "name": "python",
   "nbconvert_exporter": "python",
   "pygments_lexer": "ipython3",
   "version": "3.4.3"
  }
 },
 "nbformat": 4,
 "nbformat_minor": 0
}
